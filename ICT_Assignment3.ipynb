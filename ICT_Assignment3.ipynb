{
 "cells": [
  {
   "cell_type": "code",
   "execution_count": 1,
   "id": "10b371dd",
   "metadata": {},
   "outputs": [
    {
     "name": "stdout",
     "output_type": "stream",
     "text": [
      "Enter the number of elements in the list6\n",
      "enter the number4\n",
      "enter the number2\n",
      "enter the number5\n",
      "enter the number7\n",
      "enter the number8\n",
      "enter the number1\n",
      "27\n"
     ]
    }
   ],
   "source": [
    "# Question 1\n",
    "length = int(input(\"Enter the number of elements in the list\"))\n",
    "list1 = []\n",
    "for i in range (length):\n",
    "    a = int(input(\"enter the number\"))\n",
    "    list1.append(a)\n",
    "def sum(list1):\n",
    "    total = 0\n",
    "    for x in list1:\n",
    "        total += x\n",
    "    return total\n",
    "print(sum(list1))\n"
   ]
  },
  {
   "cell_type": "code",
   "execution_count": 2,
   "id": "ba61b59b",
   "metadata": {},
   "outputs": [],
   "source": [
    "# Question 2"
   ]
  },
  {
   "cell_type": "code",
   "execution_count": 3,
   "id": "ff92a829",
   "metadata": {},
   "outputs": [
    {
     "name": "stdout",
     "output_type": "stream",
     "text": [
      "Enter the stringmalayalam\n",
      "Palindrome\n"
     ]
    }
   ],
   "source": [
    "def check(string):\n",
    "    if (string==string[::-1]):\n",
    "        return \"Palindrome\"\n",
    "    else:\n",
    "        return \"Not Palindrome\"\n",
    "string  = input(\"Enter the string\")\n",
    "print(check(string))\n"
   ]
  },
  {
   "cell_type": "code",
   "execution_count": 4,
   "id": "fc998a3b",
   "metadata": {},
   "outputs": [],
   "source": [
    "# Question 3"
   ]
  },
  {
   "cell_type": "code",
   "execution_count": 5,
   "id": "1852a397",
   "metadata": {},
   "outputs": [
    {
     "name": "stdout",
     "output_type": "stream",
     "text": [
      "Enter number of terms:8\n",
      "Fibonacci sequence:\n",
      "0\n",
      "1\n",
      "1\n",
      "2\n",
      "3\n",
      "5\n",
      "8\n",
      "13\n"
     ]
    }
   ],
   "source": [
    "def fib(n):\n",
    "    if(n <= 1):\n",
    "        return n\n",
    "    else:\n",
    "        return(fib(n-1) + fib(n-2))\n",
    "n = int(input(\"Enter number of terms:\"))\n",
    "print(\"Fibonacci sequence:\")\n",
    "for i in range(n):\n",
    "    print(fib(i))"
   ]
  },
  {
   "cell_type": "code",
   "execution_count": 6,
   "id": "51e67362",
   "metadata": {},
   "outputs": [],
   "source": [
    "# Question 4"
   ]
  },
  {
   "cell_type": "code",
   "execution_count": 7,
   "id": "9af59ebb",
   "metadata": {},
   "outputs": [
    {
     "name": "stdout",
     "output_type": "stream",
     "text": [
      "Enter any Number  :14\n",
      "14  *  1  =  14\n",
      "14  *  2  =  28\n",
      "14  *  3  =  42\n",
      "14  *  4  =  56\n",
      "14  *  5  =  70\n",
      "14  *  6  =  84\n",
      "14  *  7  =  98\n",
      "14  *  8  =  112\n",
      "14  *  9  =  126\n",
      "14  *  10  =  140\n"
     ]
    }
   ],
   "source": [
    "def mul_table(num,count):\n",
    "  if( count < 11):\n",
    "     print(num,\" * \",count,\" = \",num * count)\n",
    "     return mul_table(num,count + 1)\n",
    "  else:\n",
    "    return None\n",
    "\n",
    "n = int(input(\"Enter any Number  :\"));\n",
    "mul_table(n,1)"
   ]
  },
  {
   "cell_type": "code",
   "execution_count": 8,
   "id": "8013bc02",
   "metadata": {},
   "outputs": [],
   "source": [
    "# Question 5"
   ]
  },
  {
   "cell_type": "code",
   "execution_count": 9,
   "id": "c7edbc78",
   "metadata": {},
   "outputs": [
    {
     "name": "stdout",
     "output_type": "stream",
     "text": [
      "Enter the wordanjaly\n",
      "The number of vowels: 2\n",
      "\n",
      "The number of consonant: 4\n",
      "None\n"
     ]
    }
   ],
   "source": [
    "\n",
    "def count(word):\n",
    "    vowels=0\n",
    "    consonants=0\n",
    "    for i in word:\n",
    "        if(i == 'a'or i == 'e'or i == 'i'or i == 'o'or i == 'u' or i == 'A'or i == 'E'or i == 'I'or i == 'O'or i == 'U' ):\n",
    "            vowels=vowels+1;         \n",
    "        else:\n",
    "            consonants=consonants+1;\n",
    "    print(\"The number of vowels:\",vowels);\n",
    "    print(\"\\nThe number of consonant:\",consonants);\n",
    "                 \n",
    "word  = input(\"Enter the word\")\n",
    "print(count(word))"
   ]
  },
  {
   "cell_type": "code",
   "execution_count": 10,
   "id": "cc8a2839",
   "metadata": {},
   "outputs": [],
   "source": [
    "# Question 6"
   ]
  },
  {
   "cell_type": "code",
   "execution_count": 11,
   "id": "e197f238",
   "metadata": {},
   "outputs": [
    {
     "name": "stdout",
     "output_type": "stream",
     "text": [
      "Enter the stringanjaly\n",
      "ANJALY\n"
     ]
    }
   ],
   "source": [
    "def convert(string):\n",
    "    string.upper()\n",
    "string  = input(\"Enter the string\")\n",
    "print(string.upper())"
   ]
  },
  {
   "cell_type": "code",
   "execution_count": 12,
   "id": "d09338fe",
   "metadata": {},
   "outputs": [],
   "source": [
    "# Question 7"
   ]
  },
  {
   "cell_type": "code",
   "execution_count": 18,
   "id": "b878abe4",
   "metadata": {},
   "outputs": [
    {
     "name": "stdout",
     "output_type": "stream",
     "text": [
      "Original list:\n",
      "[12, 0, None, 23, None, -55, 234, 89, None, 0, 6, -12]\n",
      "\n",
      "Upated List:\n",
      "[12, 0, 23, -55, 234, 89, 0, 6, -12]\n"
     ]
    }
   ],
   "source": [
    "def remove_none(nums):\n",
    "    result = filter(lambda v: v is not None, nums)\n",
    "    return list(result)\n",
    "\n",
    "nums = [12, 0, None, 23, None, -55, 234, 89, None, 0, 6, -12]\n",
    "print(\"Original list:\")\n",
    "print(nums)\n",
    "print(\"\\nUpated List:\")\n",
    "print(remove_none(nums))"
   ]
  },
  {
   "cell_type": "code",
   "execution_count": 19,
   "id": "0a0c36f7",
   "metadata": {},
   "outputs": [],
   "source": [
    "# Question 8"
   ]
  },
  {
   "cell_type": "code",
   "execution_count": 20,
   "id": "2507bbf1",
   "metadata": {},
   "outputs": [
    {
     "name": "stdout",
     "output_type": "stream",
     "text": [
      "The length of rectangle is:  8\n",
      "The width of rectangle is:  4\n",
      "The perimeter of rectangle is:  24\n",
      "The area of rectangle is:  32\n",
      "The volume of Parallelepiped is:  64\n"
     ]
    }
   ],
   "source": [
    "class Rectangle:\n",
    "    \n",
    "    def __init__(self, length , width):\n",
    "        self.length = length\n",
    "        self.width = width\n",
    "        \n",
    "    \n",
    "    def Perimeter(self):\n",
    "        return 2*(self.length + self.width)\n",
    "    \n",
    "    \n",
    "    def Area(self):\n",
    "        return self.length*self.width   \n",
    "    \n",
    "    \n",
    "    def display(self):\n",
    "        print(\"The length of rectangle is: \", self.length)\n",
    "        print(\"The width of rectangle is: \", self.width)\n",
    "        print(\"The perimeter of rectangle is: \", self.Perimeter())\n",
    "        print(\"The area of rectangle is: \", self.Area())\n",
    "class Parallelepiped(Rectangle):\n",
    "    def __init__(self, length, width , height):\n",
    "        Rectangle.__init__(self, length, width)\n",
    "        self.height = height\n",
    "        \n",
    "    \n",
    "    def volume(self):\n",
    "        return self.length*self.width*self.height\n",
    "        \n",
    "myRectangle = Rectangle(8,4)\n",
    "myRectangle.display()\n",
    "myParallelepiped = Parallelepiped(8,4, 2)\n",
    "print(\"The volume of Parallelepiped is: \" , myParallelepiped.volume())"
   ]
  },
  {
   "cell_type": "code",
   "execution_count": 21,
   "id": "1d82e4f9",
   "metadata": {},
   "outputs": [],
   "source": [
    "# Question 9"
   ]
  },
  {
   "cell_type": "code",
   "execution_count": 22,
   "id": "a38f7637",
   "metadata": {},
   "outputs": [
    {
     "name": "stdout",
     "output_type": "stream",
     "text": [
      "Account Number :  123456789\n",
      "Account Name :  Anjaly\n",
      "Account Balance :  9900  $\n"
     ]
    }
   ],
   "source": [
    "class BankAccount:\n",
    "     \n",
    "    def __init__(self,accountNumber, name, balance):\n",
    "        self.accountNumber = accountNumber\n",
    "        self.name = name\n",
    "        self.balance = balance\n",
    "        \n",
    "    \n",
    "    def Deposit(self , d ):\n",
    "        self.balance = self.balance + d\n",
    "    \n",
    "    \n",
    "    def Withdrawal(self , w):\n",
    "        if(self.balance < w):\n",
    "            print(\"impossible operation! Insufficient balance !\")\n",
    "        else:\n",
    "            self.balance = self.balance - w\n",
    "   \n",
    "    def bankFees(self):\n",
    "        self.balance = (95/100)*self.balance\n",
    "        \n",
    "    \n",
    "    def display(self):\n",
    "        print(\"Account Number : \" , self.accountNumber)\n",
    "        print(\"Account Name : \" , self.name)\n",
    "        print(\"Account Balance : \" , self.balance , \" $\")\n",
    "        \n",
    "\n",
    "newAccount = BankAccount(123456789, \"Anjaly\" , 10000)\n",
    "\n",
    "newAccount.Withdrawal(300)\n",
    "\n",
    "newAccount.Deposit(200)\n",
    "\n",
    "newAccount.display()"
   ]
  },
  {
   "cell_type": "code",
   "execution_count": null,
   "id": "e37a50db",
   "metadata": {},
   "outputs": [],
   "source": [
    "# Question 10\n"
   ]
  },
  {
   "cell_type": "code",
   "execution_count": null,
   "id": "994928f8",
   "metadata": {},
   "outputs": [],
   "source": []
  },
  {
   "cell_type": "code",
   "execution_count": null,
   "id": "41e8cc48",
   "metadata": {},
   "outputs": [],
   "source": []
  },
  {
   "cell_type": "code",
   "execution_count": null,
   "id": "257fa867",
   "metadata": {},
   "outputs": [],
   "source": []
  },
  {
   "cell_type": "code",
   "execution_count": null,
   "id": "516795cf",
   "metadata": {},
   "outputs": [],
   "source": []
  },
  {
   "cell_type": "code",
   "execution_count": null,
   "id": "ce26d427",
   "metadata": {},
   "outputs": [],
   "source": []
  }
 ],
 "metadata": {
  "kernelspec": {
   "display_name": "Python 3 (ipykernel)",
   "language": "python",
   "name": "python3"
  },
  "language_info": {
   "codemirror_mode": {
    "name": "ipython",
    "version": 3
   },
   "file_extension": ".py",
   "mimetype": "text/x-python",
   "name": "python",
   "nbconvert_exporter": "python",
   "pygments_lexer": "ipython3",
   "version": "3.9.12"
  }
 },
 "nbformat": 4,
 "nbformat_minor": 5
}
